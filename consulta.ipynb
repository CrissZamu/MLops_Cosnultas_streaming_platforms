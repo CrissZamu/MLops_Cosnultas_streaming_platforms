{
 "cells": [
  {
   "cell_type": "code",
   "execution_count": 38,
   "metadata": {},
   "outputs": [],
   "source": [
    "import pickle\n",
    "import pandas as pd\n",
    "import numpy as np\n"
   ]
  },
  {
   "cell_type": "code",
   "execution_count": 45,
   "metadata": {},
   "outputs": [],
   "source": [
    "def cargar_modelo():\n",
    "    with open('C:/Users/Crist/OneDrive/Escritorio/MLops PI/users_predictions.pkl', 'rb') as archivo_modelo:\n",
    "            model = pickle.load('users_prediction.pkl')\n",
    "    return model"
   ]
  },
  {
   "cell_type": "code",
   "execution_count": 47,
   "metadata": {},
   "outputs": [],
   "source": [
    "def get_prediction (userId:int):\n",
    "    with open('users_predictions.pkl', 'rb') as archivo:\n",
    "        model = pickle.load(archivo)\n",
    "    users_predictions = model.predict (userId)\n",
    "    return usesr_predictions "
   ]
  },
  {
   "cell_type": "code",
   "execution_count": 48,
   "metadata": {},
   "outputs": [
    {
     "ename": "AttributeError",
     "evalue": "'numpy.ndarray' object has no attribute 'predict'",
     "output_type": "error",
     "traceback": [
      "\u001b[1;31m---------------------------------------------------------------------------\u001b[0m",
      "\u001b[1;31mAttributeError\u001b[0m                            Traceback (most recent call last)",
      "Cell \u001b[1;32mIn[48], line 1\u001b[0m\n\u001b[1;32m----> 1\u001b[0m get_prediction(\u001b[39m250\u001b[39;49m)\n",
      "Cell \u001b[1;32mIn[47], line 4\u001b[0m, in \u001b[0;36mget_prediction\u001b[1;34m(userId)\u001b[0m\n\u001b[0;32m      2\u001b[0m \u001b[39mwith\u001b[39;00m \u001b[39mopen\u001b[39m(\u001b[39m'\u001b[39m\u001b[39musers_predictions.pkl\u001b[39m\u001b[39m'\u001b[39m, \u001b[39m'\u001b[39m\u001b[39mrb\u001b[39m\u001b[39m'\u001b[39m) \u001b[39mas\u001b[39;00m archivo:\n\u001b[0;32m      3\u001b[0m     model \u001b[39m=\u001b[39m pickle\u001b[39m.\u001b[39mload(archivo)\n\u001b[1;32m----> 4\u001b[0m users_predictions \u001b[39m=\u001b[39m model\u001b[39m.\u001b[39;49mpredict (userId)\n\u001b[0;32m      5\u001b[0m \u001b[39mreturn\u001b[39;00m usesr_predictions\n",
      "\u001b[1;31mAttributeError\u001b[0m: 'numpy.ndarray' object has no attribute 'predict'"
     ]
    }
   ],
   "source": [
    "get_prediction(250)\n"
   ]
  }
 ],
 "metadata": {
  "kernelspec": {
   "display_name": "Python 3",
   "language": "python",
   "name": "python3"
  },
  "language_info": {
   "codemirror_mode": {
    "name": "ipython",
    "version": 3
   },
   "file_extension": ".py",
   "mimetype": "text/x-python",
   "name": "python",
   "nbconvert_exporter": "python",
   "pygments_lexer": "ipython3",
   "version": "3.9.0"
  },
  "orig_nbformat": 4
 },
 "nbformat": 4,
 "nbformat_minor": 2
}
