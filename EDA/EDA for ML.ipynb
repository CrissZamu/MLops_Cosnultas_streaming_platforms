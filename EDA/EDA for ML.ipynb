{
 "cells": [
  {
   "cell_type": "code",
   "execution_count": 292,
   "metadata": {},
   "outputs": [],
   "source": [
    "import pandas as pd\n",
    "import numpy as np\n",
    "from sklearn.metrics import mean_squared_error\n",
    "from sklearn.model_selection import train_test_split\n",
    "from sklearn.neighbors import NearestNeighbors\n",
    "import matplotlib.pyplot as plt\n",
    "import sklearn\n",
    "import seaborn as sns\n",
    "from scipy import stats\n",
    "import pyarrow as pa\n",
    "import pickle\n"
   ]
  },
  {
   "cell_type": "code",
   "execution_count": 247,
   "metadata": {},
   "outputs": [],
   "source": [
    "# leer los csv de streaming y ratings y guardarlos en un datframe \n",
    "df_ratings = pd.read_csv (\"../CSV ETL/df_ratings.csv\")\n",
    "df_streaming = pd.read_csv (\"../CSV ETL/df_streaming.csv\")"
   ]
  },
  {
   "cell_type": "code",
   "execution_count": 248,
   "metadata": {},
   "outputs": [],
   "source": [
    "df_streaming_ratings = pd.merge(df_streaming[['id', 'title']], df_ratings[['id','userId','score']], on = \"id\")"
   ]
  },
  {
   "cell_type": "code",
   "execution_count": 291,
   "metadata": {},
   "outputs": [],
   "source": [
    "df_streaming_ratings.to_parquet('../CSV ETL/df_streaming_ratings.parquet', compression='snappy')"
   ]
  },
  {
   "cell_type": "code",
   "execution_count": 249,
   "metadata": {},
   "outputs": [
    {
     "name": "stdout",
     "output_type": "stream",
     "text": [
      "<class 'pandas.core.frame.DataFrame'>\n",
      "Int64Index: 11024289 entries, 0 to 11024288\n",
      "Data columns (total 4 columns):\n",
      " #   Column  Dtype  \n",
      "---  ------  -----  \n",
      " 0   id      object \n",
      " 1   title   object \n",
      " 2   userId  int64  \n",
      " 3   score   float64\n",
      "dtypes: float64(1), int64(1), object(2)\n",
      "memory usage: 420.5+ MB\n"
     ]
    }
   ],
   "source": [
    "df_streaming_ratings.info()"
   ]
  },
  {
   "attachments": {},
   "cell_type": "markdown",
   "metadata": {},
   "source": [
    "El dataframe que nos interesa inicialmente es el de ratings ya que es el que contiene las puntuaciones de los contenidos de las plataformas asignados por los usuarios, y es al que le haremos el EDA."
   ]
  },
  {
   "cell_type": "code",
   "execution_count": 251,
   "metadata": {},
   "outputs": [
    {
     "data": {
      "text/plain": [
       "(11024289, 3)"
      ]
     },
     "execution_count": 251,
     "metadata": {},
     "output_type": "execute_result"
    }
   ],
   "source": [
    "# ver la cantidad de registros del df\n",
    "df_ratings.shape"
   ]
  },
  {
   "attachments": {},
   "cell_type": "markdown",
   "metadata": {},
   "source": [
    "Como se observa el data frame contiene mas de 11 millones de registros, lo que no es muy eficiente ni optimo para nuestro modelo debido a que podria dar cabida a un sobre ajuste del model. Por esta razon es conveniente hacer un muestreo para reducir la cantidad de datos. el tipo de muestreo mas adecuado para el objetivo del proyecto es el muestreo por conglomeracion lo cual no permitira reducir la muestra sin sacrificar la representación de la misma."
   ]
  },
  {
   "attachments": {},
   "cell_type": "markdown",
   "metadata": {},
   "source": [
    "dado que los datos no estan jeraquizados lo mejor es agruparlos por usuarios para obtener una muestra representativa de usuarios de las plataformas."
   ]
  },
  {
   "cell_type": "code",
   "execution_count": 252,
   "metadata": {},
   "outputs": [],
   "source": [
    "# Dividir los datos en conglomerados según la columna \"userId\"\n",
    "conglomerados = df_ratings.groupby('userId')"
   ]
  },
  {
   "attachments": {},
   "cell_type": "markdown",
   "metadata": {},
   "source": [
    "Una vez que tienes los conglomerados, podemos seleccionar aleatoriamente algunos de ellos para formar la muestra. Para seleccionar aleatoriamente los conglomerados, para ello vamos a utilizar la función np.random.choice() de la librería NumPy."
   ]
  },
  {
   "cell_type": "code",
   "execution_count": 253,
   "metadata": {},
   "outputs": [
    {
     "data": {
      "text/plain": [
       "(50000, 3)"
      ]
     },
     "execution_count": 253,
     "metadata": {},
     "output_type": "execute_result"
    }
   ],
   "source": [
    "# Seleccionar aleatoriamente 1000 conglomerados\n",
    "indices_conglomerados = np.random.choice(len(conglomerados), size=50000, replace=False)\n",
    "\n",
    "#obtener la muestra representativa del dataframe\n",
    "muestra = df_ratings.loc[indices_conglomerados]\n",
    "muestra.shape"
   ]
  },
  {
   "cell_type": "code",
   "execution_count": 254,
   "metadata": {},
   "outputs": [
    {
     "name": "stdout",
     "output_type": "stream",
     "text": [
      "<class 'pandas.core.frame.DataFrame'>\n",
      "Int64Index: 50000 entries, 37588 to 24976\n",
      "Data columns (total 3 columns):\n",
      " #   Column  Non-Null Count  Dtype  \n",
      "---  ------  --------------  -----  \n",
      " 0   userId  50000 non-null  int64  \n",
      " 1   score   50000 non-null  float64\n",
      " 2   id      50000 non-null  object \n",
      "dtypes: float64(1), int64(1), object(1)\n",
      "memory usage: 1.5+ MB\n"
     ]
    }
   ],
   "source": [
    "muestra.info()"
   ]
  },
  {
   "attachments": {},
   "cell_type": "markdown",
   "metadata": {},
   "source": [
    "la muestra por conglomerados del df_ratings es de 60.000 registros. ahora vamos a verificar que si sea una muestra representativa al comparar como se comporta con respecto al set completo de datos."
   ]
  },
  {
   "attachments": {},
   "cell_type": "markdown",
   "metadata": {},
   "source": [
    "Vamos a comparar la cantidad de usuarios en funcion de la cantidad de contenidos disponibles tanto en la data set completo como en la muestra."
   ]
  },
  {
   "cell_type": "code",
   "execution_count": 255,
   "metadata": {},
   "outputs": [
    {
     "name": "stdout",
     "output_type": "stream",
     "text": [
      "65536 users\n",
      "22998 items\n"
     ]
    }
   ],
   "source": [
    "n_users = df_ratings.userId.unique().shape[0]\n",
    "n_items = df_ratings.id.unique().shape[0]\n",
    "print (str(n_users) + ' users')\n",
    "print (str(n_items) + ' items')"
   ]
  },
  {
   "cell_type": "code",
   "execution_count": 256,
   "metadata": {},
   "outputs": [
    {
     "name": "stdout",
     "output_type": "stream",
     "text": [
      "703 users\n",
      "20413 items\n"
     ]
    }
   ],
   "source": [
    "# \n",
    "n_users_muestra = muestra.userId.unique().shape[0]\n",
    "n_items_muestra = muestra.id.unique().shape[0]\n",
    "print (str(n_users_muestra) + ' users')\n",
    "print (str(n_items_muestra) + ' items')"
   ]
  },
  {
   "attachments": {},
   "cell_type": "markdown",
   "metadata": {},
   "source": [
    "veamos como se comporta el data set y la muestra si vemos la cantidad de usuarios que asiganron una puntuacion especifica."
   ]
  },
  {
   "cell_type": "code",
   "execution_count": 257,
   "metadata": {},
   "outputs": [
    {
     "data": {
      "text/plain": [
       "(array([ 514764.,  167428.,  739955.,  530634., 2233657., 1330338.,\n",
       "        2971419., 2536094.]),\n",
       " array([0.5   , 1.0625, 1.625 , 2.1875, 2.75  , 3.3125, 3.875 , 4.4375,\n",
       "        5.    ]),\n",
       " <BarContainer object of 8 artists>)"
      ]
     },
     "execution_count": 257,
     "metadata": {},
     "output_type": "execute_result"
    },
    {
     "data": {
      "image/png": "[encoded data removed]",
      "text/plain": [
       "<Figure size 1500x500 with 1 Axes>"
      ]
     },
     "metadata": {},
     "output_type": "display_data"
    }
   ],
   "source": [
    "plt.hist(df_ratings.score,bins=8)"
   ]
  },
  {
   "cell_type": "code",
   "execution_count": 258,
   "metadata": {},
   "outputs": [
    {
     "data": {
      "text/plain": [
       "score\n",
       "4.0    2971419\n",
       "3.0    2233657\n",
       "5.0    1616526\n",
       "3.5    1330338\n",
       "4.5     919568\n",
       "2.0     739955\n",
       "2.5     530634\n",
       "1.0     350589\n",
       "1.5     167428\n",
       "0.5     164175\n",
       "Name: userId, dtype: int64"
      ]
     },
     "execution_count": 258,
     "metadata": {},
     "output_type": "execute_result"
    }
   ],
   "source": [
    "df_ratings.groupby([\"score\"])[\"userId\"].count().sort_values(ascending=False)"
   ]
  },
  {
   "attachments": {},
   "cell_type": "markdown",
   "metadata": {},
   "source": [
    "aqui vemos que en el data set el valor que mas se asigna es el 4.0 y el 3.0 veamos como se comporta la muestra "
   ]
  },
  {
   "cell_type": "code",
   "execution_count": 259,
   "metadata": {},
   "outputs": [
    {
     "data": {
      "text/plain": [
       "(array([ 2005.,   660.,  3934.,  2525., 11197.,  5102., 13530., 11047.]),\n",
       " array([0.5   , 1.0625, 1.625 , 2.1875, 2.75  , 3.3125, 3.875 , 4.4375,\n",
       "        5.    ]),\n",
       " <BarContainer object of 8 artists>)"
      ]
     },
     "execution_count": 259,
     "metadata": {},
     "output_type": "execute_result"
    },
    {
     "data": {
      "image/png": "[encoded data removed]",
      "text/plain": [
       "<Figure size 1500x500 with 1 Axes>"
      ]
     },
     "metadata": {},
     "output_type": "display_data"
    }
   ],
   "source": [
    "plt.hist(muestra.score,bins=8)"
   ]
  },
  {
   "attachments": {},
   "cell_type": "markdown",
   "metadata": {},
   "source": [
    "graficamente la muestra se comporta igual que el data set lo cual comprpbamos a continuacion."
   ]
  },
  {
   "cell_type": "code",
   "execution_count": 260,
   "metadata": {},
   "outputs": [
    {
     "data": {
      "text/plain": [
       "score\n",
       "4.0    13530\n",
       "3.0    11197\n",
       "5.0     7263\n",
       "3.5     5102\n",
       "2.0     3934\n",
       "4.5     3784\n",
       "2.5     2525\n",
       "1.0     1530\n",
       "1.5      660\n",
       "0.5      475\n",
       "Name: userId, dtype: int64"
      ]
     },
     "execution_count": 260,
     "metadata": {},
     "output_type": "execute_result"
    }
   ],
   "source": [
    "muestra.groupby([\"score\"])[\"userId\"].count().sort_values(ascending=False)"
   ]
  },
  {
   "cell_type": "code",
   "execution_count": 261,
   "metadata": {},
   "outputs": [
    {
     "name": "stdout",
     "output_type": "stream",
     "text": [
      "288.83376331538324\n",
      "168.21730041503906\n"
     ]
    }
   ],
   "source": [
    "print (df_ratings.groupby('userId')['score'].count().std())\n",
    "print (df_ratings.groupby('userId')['score'].count().mean())"
   ]
  },
  {
   "cell_type": "code",
   "execution_count": 262,
   "metadata": {},
   "outputs": [
    {
     "name": "stdout",
     "output_type": "stream",
     "text": [
      "123.05498871173828\n",
      "71.12375533428165\n"
     ]
    }
   ],
   "source": [
    "print(muestra.groupby('userId')['score'].count().std())\n",
    "print(muestra.groupby('userId')['score'].count().mean())"
   ]
  },
  {
   "cell_type": "code",
   "execution_count": 263,
   "metadata": {},
   "outputs": [
    {
     "data": {
      "text/plain": [
       "<Axes: xlabel='score'>"
      ]
     },
     "execution_count": 263,
     "metadata": {},
     "output_type": "execute_result"
    },
    {
     "data": {
      "image/png": "[encoded data removed]",
      "text/plain": [
       "<Figure size 1500x500 with 1 Axes>"
      ]
     },
     "metadata": {},
     "output_type": "display_data"
    }
   ],
   "source": [
    "sns.boxplot(x=muestra['score'])"
   ]
  },
  {
   "attachments": {},
   "cell_type": "markdown",
   "metadata": {},
   "source": [
    "vemos que tanto la muestra como el data set presentan algunos outliers en puntuaciones inferioores a 1.5. sin embargo al tratarse se un cuaestiopn subjetiva de apreciacion no seran eliminados ya que una pelicula o serie le guste a mucha gente no es indicador que no sea del agrado de algunos otros usuarios."
   ]
  },
  {
   "cell_type": "code",
   "execution_count": 264,
   "metadata": {},
   "outputs": [],
   "source": [
    "z_scores = stats.zscore(muestra['score'])"
   ]
  },
  {
   "cell_type": "code",
   "execution_count": 265,
   "metadata": {},
   "outputs": [
    {
     "data": {
      "text/html": [
       "<div>\n",
       "<style scoped>\n",
       "    .dataframe tbody tr th:only-of-type {\n",
       "        vertical-align: middle;\n",
       "    }\n",
       "\n",
       "    .dataframe tbody tr th {\n",
       "        vertical-align: top;\n",
       "    }\n",
       "\n",
       "    .dataframe thead th {\n",
       "        text-align: right;\n",
       "    }\n",
       "</style>\n",
       "<table border=\"1\" class=\"dataframe\">\n",
       "  <thead>\n",
       "    <tr style=\"text-align: right;\">\n",
       "      <th></th>\n",
       "      <th>userId</th>\n",
       "      <th>score</th>\n",
       "      <th>id</th>\n",
       "    </tr>\n",
       "  </thead>\n",
       "  <tbody>\n",
       "    <tr>\n",
       "      <th>37588</th>\n",
       "      <td>412</td>\n",
       "      <td>4.0</td>\n",
       "      <td>as5869</td>\n",
       "    </tr>\n",
       "    <tr>\n",
       "      <th>5192</th>\n",
       "      <td>51</td>\n",
       "      <td>5.0</td>\n",
       "      <td>ns3129</td>\n",
       "    </tr>\n",
       "    <tr>\n",
       "      <th>1636</th>\n",
       "      <td>21</td>\n",
       "      <td>5.0</td>\n",
       "      <td>as6099</td>\n",
       "    </tr>\n",
       "    <tr>\n",
       "      <th>62811</th>\n",
       "      <td>674</td>\n",
       "      <td>4.0</td>\n",
       "      <td>as8037</td>\n",
       "    </tr>\n",
       "    <tr>\n",
       "      <th>18579</th>\n",
       "      <td>230</td>\n",
       "      <td>4.0</td>\n",
       "      <td>hs1014</td>\n",
       "    </tr>\n",
       "    <tr>\n",
       "      <th>...</th>\n",
       "      <td>...</td>\n",
       "      <td>...</td>\n",
       "      <td>...</td>\n",
       "    </tr>\n",
       "    <tr>\n",
       "      <th>34230</th>\n",
       "      <td>386</td>\n",
       "      <td>4.0</td>\n",
       "      <td>as464</td>\n",
       "    </tr>\n",
       "    <tr>\n",
       "      <th>3380</th>\n",
       "      <td>41</td>\n",
       "      <td>3.0</td>\n",
       "      <td>as2715</td>\n",
       "    </tr>\n",
       "    <tr>\n",
       "      <th>63913</th>\n",
       "      <td>682</td>\n",
       "      <td>4.0</td>\n",
       "      <td>as5256</td>\n",
       "    </tr>\n",
       "    <tr>\n",
       "      <th>56505</th>\n",
       "      <td>595</td>\n",
       "      <td>3.0</td>\n",
       "      <td>as7849</td>\n",
       "    </tr>\n",
       "    <tr>\n",
       "      <th>24976</th>\n",
       "      <td>308</td>\n",
       "      <td>4.0</td>\n",
       "      <td>ns649</td>\n",
       "    </tr>\n",
       "  </tbody>\n",
       "</table>\n",
       "<p>50000 rows × 3 columns</p>\n",
       "</div>"
      ],
      "text/plain": [
       "       userId  score      id\n",
       "37588     412    4.0  as5869\n",
       "5192       51    5.0  ns3129\n",
       "1636       21    5.0  as6099\n",
       "62811     674    4.0  as8037\n",
       "18579     230    4.0  hs1014\n",
       "...       ...    ...     ...\n",
       "34230     386    4.0   as464\n",
       "3380       41    3.0  as2715\n",
       "63913     682    4.0  as5256\n",
       "56505     595    3.0  as7849\n",
       "24976     308    4.0   ns649\n",
       "\n",
       "[50000 rows x 3 columns]"
      ]
     },
     "execution_count": 265,
     "metadata": {},
     "output_type": "execute_result"
    }
   ],
   "source": [
    "threshold = 1.5\n",
    "outliers = (z_scores < threshold)\n",
    "muestra[outliers]"
   ]
  },
  {
   "attachments": {},
   "cell_type": "markdown",
   "metadata": {},
   "source": [
    "vamos ahora a montar nuestro modelo usando la muestra del data set."
   ]
  },
  {
   "cell_type": "code",
   "execution_count": 266,
   "metadata": {},
   "outputs": [
    {
     "data": {
      "text/html": [
       "<div>\n",
       "<style scoped>\n",
       "    .dataframe tbody tr th:only-of-type {\n",
       "        vertical-align: middle;\n",
       "    }\n",
       "\n",
       "    .dataframe tbody tr th {\n",
       "        vertical-align: top;\n",
       "    }\n",
       "\n",
       "    .dataframe thead th {\n",
       "        text-align: right;\n",
       "    }\n",
       "</style>\n",
       "<table border=\"1\" class=\"dataframe\">\n",
       "  <thead>\n",
       "    <tr style=\"text-align: right;\">\n",
       "      <th>id</th>\n",
       "      <th>as1</th>\n",
       "      <th>as10</th>\n",
       "      <th>as100</th>\n",
       "      <th>as1000</th>\n",
       "      <th>as1002</th>\n",
       "      <th>as1003</th>\n",
       "      <th>as1004</th>\n",
       "      <th>as1005</th>\n",
       "      <th>as1006</th>\n",
       "      <th>as1007</th>\n",
       "      <th>...</th>\n",
       "      <th>ns99</th>\n",
       "      <th>ns990</th>\n",
       "      <th>ns991</th>\n",
       "      <th>ns992</th>\n",
       "      <th>ns993</th>\n",
       "      <th>ns994</th>\n",
       "      <th>ns996</th>\n",
       "      <th>ns997</th>\n",
       "      <th>ns998</th>\n",
       "      <th>ns999</th>\n",
       "    </tr>\n",
       "    <tr>\n",
       "      <th>userId</th>\n",
       "      <th></th>\n",
       "      <th></th>\n",
       "      <th></th>\n",
       "      <th></th>\n",
       "      <th></th>\n",
       "      <th></th>\n",
       "      <th></th>\n",
       "      <th></th>\n",
       "      <th></th>\n",
       "      <th></th>\n",
       "      <th></th>\n",
       "      <th></th>\n",
       "      <th></th>\n",
       "      <th></th>\n",
       "      <th></th>\n",
       "      <th></th>\n",
       "      <th></th>\n",
       "      <th></th>\n",
       "      <th></th>\n",
       "      <th></th>\n",
       "      <th></th>\n",
       "    </tr>\n",
       "  </thead>\n",
       "  <tbody>\n",
       "    <tr>\n",
       "      <th>1</th>\n",
       "      <td>0.0</td>\n",
       "      <td>0.0</td>\n",
       "      <td>0.0</td>\n",
       "      <td>0.0</td>\n",
       "      <td>0.0</td>\n",
       "      <td>0.0</td>\n",
       "      <td>0.0</td>\n",
       "      <td>0.0</td>\n",
       "      <td>0.0</td>\n",
       "      <td>0.0</td>\n",
       "      <td>...</td>\n",
       "      <td>0.0</td>\n",
       "      <td>0.0</td>\n",
       "      <td>0.0</td>\n",
       "      <td>0.0</td>\n",
       "      <td>0.0</td>\n",
       "      <td>0.0</td>\n",
       "      <td>0.0</td>\n",
       "      <td>0.0</td>\n",
       "      <td>0.0</td>\n",
       "      <td>0.0</td>\n",
       "    </tr>\n",
       "    <tr>\n",
       "      <th>2</th>\n",
       "      <td>0.0</td>\n",
       "      <td>0.0</td>\n",
       "      <td>0.0</td>\n",
       "      <td>0.0</td>\n",
       "      <td>0.0</td>\n",
       "      <td>0.0</td>\n",
       "      <td>0.0</td>\n",
       "      <td>0.0</td>\n",
       "      <td>0.0</td>\n",
       "      <td>0.0</td>\n",
       "      <td>...</td>\n",
       "      <td>0.0</td>\n",
       "      <td>0.0</td>\n",
       "      <td>0.0</td>\n",
       "      <td>0.0</td>\n",
       "      <td>0.0</td>\n",
       "      <td>0.0</td>\n",
       "      <td>0.0</td>\n",
       "      <td>0.0</td>\n",
       "      <td>0.0</td>\n",
       "      <td>0.0</td>\n",
       "    </tr>\n",
       "    <tr>\n",
       "      <th>3</th>\n",
       "      <td>0.0</td>\n",
       "      <td>0.0</td>\n",
       "      <td>0.0</td>\n",
       "      <td>0.0</td>\n",
       "      <td>0.0</td>\n",
       "      <td>0.0</td>\n",
       "      <td>0.0</td>\n",
       "      <td>0.0</td>\n",
       "      <td>0.0</td>\n",
       "      <td>0.0</td>\n",
       "      <td>...</td>\n",
       "      <td>0.0</td>\n",
       "      <td>0.0</td>\n",
       "      <td>0.0</td>\n",
       "      <td>0.0</td>\n",
       "      <td>0.0</td>\n",
       "      <td>0.0</td>\n",
       "      <td>0.0</td>\n",
       "      <td>0.0</td>\n",
       "      <td>0.0</td>\n",
       "      <td>0.0</td>\n",
       "    </tr>\n",
       "    <tr>\n",
       "      <th>4</th>\n",
       "      <td>0.0</td>\n",
       "      <td>0.0</td>\n",
       "      <td>0.0</td>\n",
       "      <td>0.0</td>\n",
       "      <td>0.0</td>\n",
       "      <td>0.0</td>\n",
       "      <td>0.0</td>\n",
       "      <td>0.0</td>\n",
       "      <td>0.0</td>\n",
       "      <td>0.0</td>\n",
       "      <td>...</td>\n",
       "      <td>0.0</td>\n",
       "      <td>0.0</td>\n",
       "      <td>0.0</td>\n",
       "      <td>0.0</td>\n",
       "      <td>0.0</td>\n",
       "      <td>0.0</td>\n",
       "      <td>0.0</td>\n",
       "      <td>0.0</td>\n",
       "      <td>0.0</td>\n",
       "      <td>0.0</td>\n",
       "    </tr>\n",
       "    <tr>\n",
       "      <th>5</th>\n",
       "      <td>0.0</td>\n",
       "      <td>0.0</td>\n",
       "      <td>0.0</td>\n",
       "      <td>0.0</td>\n",
       "      <td>0.0</td>\n",
       "      <td>0.0</td>\n",
       "      <td>0.0</td>\n",
       "      <td>0.0</td>\n",
       "      <td>0.0</td>\n",
       "      <td>0.0</td>\n",
       "      <td>...</td>\n",
       "      <td>0.0</td>\n",
       "      <td>0.0</td>\n",
       "      <td>0.0</td>\n",
       "      <td>0.0</td>\n",
       "      <td>0.0</td>\n",
       "      <td>0.0</td>\n",
       "      <td>0.0</td>\n",
       "      <td>0.0</td>\n",
       "      <td>0.0</td>\n",
       "      <td>0.0</td>\n",
       "    </tr>\n",
       "    <tr>\n",
       "      <th>...</th>\n",
       "      <td>...</td>\n",
       "      <td>...</td>\n",
       "      <td>...</td>\n",
       "      <td>...</td>\n",
       "      <td>...</td>\n",
       "      <td>...</td>\n",
       "      <td>...</td>\n",
       "      <td>...</td>\n",
       "      <td>...</td>\n",
       "      <td>...</td>\n",
       "      <td>...</td>\n",
       "      <td>...</td>\n",
       "      <td>...</td>\n",
       "      <td>...</td>\n",
       "      <td>...</td>\n",
       "      <td>...</td>\n",
       "      <td>...</td>\n",
       "      <td>...</td>\n",
       "      <td>...</td>\n",
       "      <td>...</td>\n",
       "      <td>...</td>\n",
       "    </tr>\n",
       "    <tr>\n",
       "      <th>702</th>\n",
       "      <td>0.0</td>\n",
       "      <td>0.0</td>\n",
       "      <td>0.0</td>\n",
       "      <td>0.0</td>\n",
       "      <td>0.0</td>\n",
       "      <td>0.0</td>\n",
       "      <td>0.0</td>\n",
       "      <td>0.0</td>\n",
       "      <td>0.0</td>\n",
       "      <td>0.0</td>\n",
       "      <td>...</td>\n",
       "      <td>0.0</td>\n",
       "      <td>0.0</td>\n",
       "      <td>0.0</td>\n",
       "      <td>0.0</td>\n",
       "      <td>0.0</td>\n",
       "      <td>0.0</td>\n",
       "      <td>0.0</td>\n",
       "      <td>0.0</td>\n",
       "      <td>0.0</td>\n",
       "      <td>0.0</td>\n",
       "    </tr>\n",
       "    <tr>\n",
       "      <th>703</th>\n",
       "      <td>0.0</td>\n",
       "      <td>0.0</td>\n",
       "      <td>0.0</td>\n",
       "      <td>0.0</td>\n",
       "      <td>0.0</td>\n",
       "      <td>0.0</td>\n",
       "      <td>0.0</td>\n",
       "      <td>0.0</td>\n",
       "      <td>0.0</td>\n",
       "      <td>0.0</td>\n",
       "      <td>...</td>\n",
       "      <td>0.0</td>\n",
       "      <td>0.0</td>\n",
       "      <td>0.0</td>\n",
       "      <td>0.0</td>\n",
       "      <td>0.0</td>\n",
       "      <td>0.0</td>\n",
       "      <td>0.0</td>\n",
       "      <td>0.0</td>\n",
       "      <td>0.0</td>\n",
       "      <td>0.0</td>\n",
       "    </tr>\n",
       "    <tr>\n",
       "      <th>704</th>\n",
       "      <td>0.0</td>\n",
       "      <td>0.0</td>\n",
       "      <td>0.0</td>\n",
       "      <td>0.0</td>\n",
       "      <td>0.0</td>\n",
       "      <td>0.0</td>\n",
       "      <td>0.0</td>\n",
       "      <td>0.0</td>\n",
       "      <td>0.0</td>\n",
       "      <td>0.0</td>\n",
       "      <td>...</td>\n",
       "      <td>0.0</td>\n",
       "      <td>0.0</td>\n",
       "      <td>0.0</td>\n",
       "      <td>0.0</td>\n",
       "      <td>0.0</td>\n",
       "      <td>0.0</td>\n",
       "      <td>0.0</td>\n",
       "      <td>0.0</td>\n",
       "      <td>0.0</td>\n",
       "      <td>0.0</td>\n",
       "    </tr>\n",
       "    <tr>\n",
       "      <th>705</th>\n",
       "      <td>0.0</td>\n",
       "      <td>0.0</td>\n",
       "      <td>0.0</td>\n",
       "      <td>0.0</td>\n",
       "      <td>0.0</td>\n",
       "      <td>0.0</td>\n",
       "      <td>0.0</td>\n",
       "      <td>0.0</td>\n",
       "      <td>0.0</td>\n",
       "      <td>0.0</td>\n",
       "      <td>...</td>\n",
       "      <td>0.0</td>\n",
       "      <td>0.0</td>\n",
       "      <td>0.0</td>\n",
       "      <td>0.0</td>\n",
       "      <td>0.0</td>\n",
       "      <td>0.0</td>\n",
       "      <td>0.0</td>\n",
       "      <td>0.0</td>\n",
       "      <td>0.0</td>\n",
       "      <td>0.0</td>\n",
       "    </tr>\n",
       "    <tr>\n",
       "      <th>706</th>\n",
       "      <td>0.0</td>\n",
       "      <td>0.0</td>\n",
       "      <td>0.0</td>\n",
       "      <td>0.0</td>\n",
       "      <td>0.0</td>\n",
       "      <td>0.0</td>\n",
       "      <td>0.0</td>\n",
       "      <td>0.0</td>\n",
       "      <td>0.0</td>\n",
       "      <td>0.0</td>\n",
       "      <td>...</td>\n",
       "      <td>0.0</td>\n",
       "      <td>0.0</td>\n",
       "      <td>0.0</td>\n",
       "      <td>0.0</td>\n",
       "      <td>0.0</td>\n",
       "      <td>0.0</td>\n",
       "      <td>0.0</td>\n",
       "      <td>0.0</td>\n",
       "      <td>0.0</td>\n",
       "      <td>0.0</td>\n",
       "    </tr>\n",
       "  </tbody>\n",
       "</table>\n",
       "<p>703 rows × 20413 columns</p>\n",
       "</div>"
      ],
      "text/plain": [
       "id      as1  as10  as100  as1000  as1002  as1003  as1004  as1005  as1006  \\\n",
       "userId                                                                     \n",
       "1       0.0   0.0    0.0     0.0     0.0     0.0     0.0     0.0     0.0   \n",
       "2       0.0   0.0    0.0     0.0     0.0     0.0     0.0     0.0     0.0   \n",
       "3       0.0   0.0    0.0     0.0     0.0     0.0     0.0     0.0     0.0   \n",
       "4       0.0   0.0    0.0     0.0     0.0     0.0     0.0     0.0     0.0   \n",
       "5       0.0   0.0    0.0     0.0     0.0     0.0     0.0     0.0     0.0   \n",
       "...     ...   ...    ...     ...     ...     ...     ...     ...     ...   \n",
       "702     0.0   0.0    0.0     0.0     0.0     0.0     0.0     0.0     0.0   \n",
       "703     0.0   0.0    0.0     0.0     0.0     0.0     0.0     0.0     0.0   \n",
       "704     0.0   0.0    0.0     0.0     0.0     0.0     0.0     0.0     0.0   \n",
       "705     0.0   0.0    0.0     0.0     0.0     0.0     0.0     0.0     0.0   \n",
       "706     0.0   0.0    0.0     0.0     0.0     0.0     0.0     0.0     0.0   \n",
       "\n",
       "id      as1007  ...  ns99  ns990  ns991  ns992  ns993  ns994  ns996  ns997  \\\n",
       "userId          ...                                                          \n",
       "1          0.0  ...   0.0    0.0    0.0    0.0    0.0    0.0    0.0    0.0   \n",
       "2          0.0  ...   0.0    0.0    0.0    0.0    0.0    0.0    0.0    0.0   \n",
       "3          0.0  ...   0.0    0.0    0.0    0.0    0.0    0.0    0.0    0.0   \n",
       "4          0.0  ...   0.0    0.0    0.0    0.0    0.0    0.0    0.0    0.0   \n",
       "5          0.0  ...   0.0    0.0    0.0    0.0    0.0    0.0    0.0    0.0   \n",
       "...        ...  ...   ...    ...    ...    ...    ...    ...    ...    ...   \n",
       "702        0.0  ...   0.0    0.0    0.0    0.0    0.0    0.0    0.0    0.0   \n",
       "703        0.0  ...   0.0    0.0    0.0    0.0    0.0    0.0    0.0    0.0   \n",
       "704        0.0  ...   0.0    0.0    0.0    0.0    0.0    0.0    0.0    0.0   \n",
       "705        0.0  ...   0.0    0.0    0.0    0.0    0.0    0.0    0.0    0.0   \n",
       "706        0.0  ...   0.0    0.0    0.0    0.0    0.0    0.0    0.0    0.0   \n",
       "\n",
       "id      ns998  ns999  \n",
       "userId                \n",
       "1         0.0    0.0  \n",
       "2         0.0    0.0  \n",
       "3         0.0    0.0  \n",
       "4         0.0    0.0  \n",
       "5         0.0    0.0  \n",
       "...       ...    ...  \n",
       "702       0.0    0.0  \n",
       "703       0.0    0.0  \n",
       "704       0.0    0.0  \n",
       "705       0.0    0.0  \n",
       "706       0.0    0.0  \n",
       "\n",
       "[703 rows x 20413 columns]"
      ]
     },
     "execution_count": 266,
     "metadata": {},
     "output_type": "execute_result"
    }
   ],
   "source": [
    "#crear la matriz cruzada de usuarios con las peliculas.\n",
    "df_matrix = pd.pivot_table(muestra, values='score', index='userId', columns='id').fillna(0)\n",
    "df_matrix"
   ]
  },
  {
   "cell_type": "code",
   "execution_count": 267,
   "metadata": {},
   "outputs": [
    {
     "name": "stdout",
     "output_type": "stream",
     "text": [
      "Sparsity: 0.35%\n"
     ]
    }
   ],
   "source": [
    "#ver el porcentaje de esparcimiento \n",
    "ratings = df_matrix.values\n",
    "sparsity = float(len(ratings.nonzero()[0]))\n",
    "sparsity /= (ratings.shape[0] * ratings.shape[1])\n",
    "sparsity *= 100\n",
    "print('Sparsity: {:4.2f}%'.format(sparsity))"
   ]
  },
  {
   "attachments": {},
   "cell_type": "markdown",
   "metadata": {},
   "source": [
    "0.35% es el porcentaje que se puede rellenar de la matriz es decir la cantidad de predicciones "
   ]
  },
  {
   "cell_type": "code",
   "execution_count": 268,
   "metadata": {},
   "outputs": [
    {
     "name": "stdout",
     "output_type": "stream",
     "text": [
      "(562, 20413)\n",
      "(141, 20413)\n"
     ]
    }
   ],
   "source": [
    "#dividir la muestra en set de entrenamiento y set de testeo.\n",
    "ratings_train, ratings_test = train_test_split(ratings, test_size = 0.2, random_state=42)\n",
    "print(ratings_train.shape)\n",
    "print(ratings_test.shape)"
   ]
  },
  {
   "attachments": {},
   "cell_type": "markdown",
   "metadata": {},
   "source": [
    "Matriz de Similitud: Distancias por Coseno\n",
    "Ahora calculamos en una nueva matriz la similitud entre usuarios."
   ]
  },
  {
   "cell_type": "code",
   "execution_count": 269,
   "metadata": {},
   "outputs": [
    {
     "name": "stdout",
     "output_type": "stream",
     "text": [
      "(703, 703)\n"
     ]
    }
   ],
   "source": [
    "sim_matrix = 1 - sklearn.metrics.pairwise.cosine_distances(ratings)\n",
    "print(sim_matrix.shape)"
   ]
  },
  {
   "cell_type": "code",
   "execution_count": 270,
   "metadata": {},
   "outputs": [
    {
     "data": {
      "image/png": "[encoded data removed]",
      "text/plain": [
       "<Figure size 1500x500 with 2 Axes>"
      ]
     },
     "metadata": {},
     "output_type": "display_data"
    }
   ],
   "source": [
    "plt.imshow(sim_matrix);\n",
    "plt.colorbar()\n",
    "plt.show()"
   ]
  },
  {
   "attachments": {},
   "cell_type": "markdown",
   "metadata": {},
   "source": [
    "Cuanto más cercano a 1, mayor similitud entre esos usuarios"
   ]
  },
  {
   "attachments": {},
   "cell_type": "markdown",
   "metadata": {},
   "source": [
    "Modelo de \"Sugeridos\""
   ]
  },
  {
   "cell_type": "code",
   "execution_count": 272,
   "metadata": {},
   "outputs": [],
   "source": [
    "#separar las filas y columnas de train y test\n",
    "sim_matrix_train = sim_matrix[0:562,0:562]\n",
    "sim_matrix_test = sim_matrix[562:703,562:703]\n",
    "\n",
    "users_predictions = sim_matrix_train.dot(ratings_train) / np.array([np.abs(sim_matrix_train).sum(axis=1)]).T\n"
   ]
  },
  {
   "cell_type": "code",
   "execution_count": 273,
   "metadata": {},
   "outputs": [
    {
     "data": {
      "image/png": "[encoded data removed]",
      "text/plain": [
       "<Figure size 1500x500 with 2 Axes>"
      ]
     },
     "metadata": {},
     "output_type": "display_data"
    }
   ],
   "source": [
    "plt.rcParams['figure.figsize'] = (15.0, 5.0)\n",
    "plt.imshow(users_predictions);\n",
    "plt.colorbar()\n",
    "plt.show()"
   ]
  },
  {
   "cell_type": "code",
   "execution_count": 287,
   "metadata": {},
   "outputs": [
    {
     "name": "stdout",
     "output_type": "stream",
     "text": [
      "zoe\n",
      "grease live!\n",
      "the night eats the world\n",
      "hired gun\n",
      "yu-gi-oh! 5d's\n"
     ]
    }
   ],
   "source": [
    "#USUARIO_EJEMPLO = 'jbagnato'\n",
    "#data = df_users[df_users['username'] == USUARIO_EJEMPLO]\n",
    "user_id = 58 # resta 1 para obtener el index de pandas.\n",
    "\n",
    "user0=users_predictions.argsort()[user_id]\n",
    "\n",
    "# Veamos los tres recomendados con mayor puntaje en la predic para este usuario\n",
    "for i, aRepo in enumerate(user0[-5:]):\n",
    "    selRepo = df_streaming[df_streaming['id']==(aRepo+1)]\n",
    "    registro = df_streaming_ratings.iloc[aRepo,1] \n",
    "    print(str(registro)) , \n",
    "    "
   ]
  },
  {
   "cell_type": "code",
   "execution_count": 293,
   "metadata": {},
   "outputs": [],
   "source": [
    "# Guardar el modelo en un archivo\n",
    "with open('../users_predictions.pkl', 'wb') as archivo:\n",
    "    pickle.dump(users_predictions, archivo)"
   ]
  },
  {
   "cell_type": "code",
   "execution_count": 294,
   "metadata": {},
   "outputs": [],
   "source": [
    "# Cargar el modelo desde un archivo\n",
    "with open('../users_predictions.pkl', 'rb') as archivo:\n",
    "    modelo = pickle.load(archivo)"
   ]
  }
 ],
 "metadata": {
  "kernelspec": {
   "display_name": "Python 3",
   "language": "python",
   "name": "python3"
  },
  "language_info": {
   "codemirror_mode": {
    "name": "ipython",
    "version": 3
   },
   "file_extension": ".py",
   "mimetype": "text/x-python",
   "name": "python",
   "nbconvert_exporter": "python",
   "pygments_lexer": "ipython3",
   "version": "3.9.0"
  },
  "orig_nbformat": 4
 },
 "nbformat": 4,
 "nbformat_minor": 2
}
